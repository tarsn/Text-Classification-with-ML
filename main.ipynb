{
 "cells": [
  {
   "cell_type": "code",
   "execution_count": 1,
   "metadata": {},
   "outputs": [],
   "source": [
    "import nltk\n",
    "import pandas as pd\n",
    "import numpy as np\n",
    "import re\n",
    "\n",
    "from Sastrawi.Stemmer.StemmerFactory import StemmerFactory"
   ]
  },
  {
   "cell_type": "code",
   "execution_count": 2,
   "metadata": {},
   "outputs": [
    {
     "name": "stderr",
     "output_type": "stream",
     "text": [
      "[nltk_data] Downloading package punkt to C:\\Users\\Arini\n",
      "[nltk_data]     Suryadi\\AppData\\Roaming\\nltk_data...\n",
      "[nltk_data]   Package punkt is already up-to-date!\n",
      "[nltk_data] Downloading package stopwords to C:\\Users\\Arini\n",
      "[nltk_data]     Suryadi\\AppData\\Roaming\\nltk_data...\n",
      "[nltk_data]   Package stopwords is already up-to-date!\n"
     ]
    },
    {
     "data": {
      "text/plain": [
       "True"
      ]
     },
     "execution_count": 2,
     "metadata": {},
     "output_type": "execute_result"
    }
   ],
   "source": [
    "nltk.download('punkt')\n",
    "nltk.download('stopwords')"
   ]
  },
  {
   "cell_type": "code",
   "execution_count": 3,
   "metadata": {},
   "outputs": [
    {
     "data": {
      "text/html": [
       "<div>\n",
       "<style scoped>\n",
       "    .dataframe tbody tr th:only-of-type {\n",
       "        vertical-align: middle;\n",
       "    }\n",
       "\n",
       "    .dataframe tbody tr th {\n",
       "        vertical-align: top;\n",
       "    }\n",
       "\n",
       "    .dataframe thead th {\n",
       "        text-align: right;\n",
       "    }\n",
       "</style>\n",
       "<table border=\"1\" class=\"dataframe\">\n",
       "  <thead>\n",
       "    <tr style=\"text-align: right;\">\n",
       "      <th></th>\n",
       "      <th>text</th>\n",
       "      <th>label</th>\n",
       "    </tr>\n",
       "  </thead>\n",
       "  <tbody>\n",
       "    <tr>\n",
       "      <th>0</th>\n",
       "      <td>warung ini dimiliki oleh pengusaha pabrik tahu...</td>\n",
       "      <td>positive</td>\n",
       "    </tr>\n",
       "    <tr>\n",
       "      <th>1</th>\n",
       "      <td>mohon ulama lurus dan k212 mmbri hujjah partai...</td>\n",
       "      <td>neutral</td>\n",
       "    </tr>\n",
       "    <tr>\n",
       "      <th>2</th>\n",
       "      <td>lokasi strategis di jalan sumatera bandung . t...</td>\n",
       "      <td>positive</td>\n",
       "    </tr>\n",
       "    <tr>\n",
       "      <th>3</th>\n",
       "      <td>betapa bahagia nya diri ini saat unboxing pake...</td>\n",
       "      <td>positive</td>\n",
       "    </tr>\n",
       "    <tr>\n",
       "      <th>4</th>\n",
       "      <td>duh . jadi mahasiswa jangan sombong dong . kas...</td>\n",
       "      <td>negative</td>\n",
       "    </tr>\n",
       "  </tbody>\n",
       "</table>\n",
       "</div>"
      ],
      "text/plain": [
       "                                                text     label\n",
       "0  warung ini dimiliki oleh pengusaha pabrik tahu...  positive\n",
       "1  mohon ulama lurus dan k212 mmbri hujjah partai...   neutral\n",
       "2  lokasi strategis di jalan sumatera bandung . t...  positive\n",
       "3  betapa bahagia nya diri ini saat unboxing pake...  positive\n",
       "4  duh . jadi mahasiswa jangan sombong dong . kas...  negative"
      ]
     },
     "execution_count": 3,
     "metadata": {},
     "output_type": "execute_result"
    }
   ],
   "source": [
    "train_data = pd.read_csv('train_preprocess.tsv', sep='\\t', header=None, names=['text', 'label'])\n",
    "test_data = pd.read_csv('test_preprocess.tsv', sep='\\t', header=None, names=['text', 'label'])\n",
    "val_data = pd.read_csv('valid_preprocess.tsv', sep='\\t', header=None, names=['text', 'label'])\n",
    "\n",
    "train_data.head()"
   ]
  },
  {
   "cell_type": "code",
   "execution_count": 4,
   "metadata": {},
   "outputs": [
    {
     "data": {
      "text/plain": [
       "positive    6416\n",
       "negative    3436\n",
       "neutral     1148\n",
       "Name: label, dtype: int64"
      ]
     },
     "execution_count": 4,
     "metadata": {},
     "output_type": "execute_result"
    }
   ],
   "source": [
    "train_data['label'].value_counts()"
   ]
  },
  {
   "cell_type": "code",
   "execution_count": 5,
   "metadata": {},
   "outputs": [],
   "source": [
    "# Encode label\n",
    "train_data['label'] = train_data['label'].map({'positive': 1, 'negative': 0, 'neutral': 2})\n",
    "test_data['label'] = test_data['label'].map({'positive': 1, 'negative': 0, 'neutral': 2})\n",
    "val_data['label'] = val_data['label'].map({'positive': 1, 'negative': 0, 'neutral': 2})"
   ]
  },
  {
   "cell_type": "code",
   "execution_count": 6,
   "metadata": {},
   "outputs": [],
   "source": [
    "## Preprocessing Data\n",
    "\n",
    "# lowercasing\n",
    "train_data['text'] = train_data['text'].str.lower()\n",
    "test_data['text'] = test_data['text'].str.lower()\n",
    "val_data['text'] = val_data['text'].str.lower()\n",
    "\n",
    "# tokenization\n",
    "train_data['tokenized_text'] = train_data['text'].apply(nltk.word_tokenize)\n",
    "test_data['tokenized_text'] = test_data['text'].apply(nltk.word_tokenize)\n",
    "val_data['tokenized_text'] = val_data['text'].apply(nltk.word_tokenize)\n",
    "\n",
    "# remove stopwords\n",
    "stopwords = set(nltk.corpus.stopwords.words('indonesian'))\n",
    "train_data['rem_stopwords_text'] = train_data['tokenized_text'].apply(lambda x: [word for word in x if word not in stopwords])\n",
    "test_data['rem_stopwords_text'] = test_data['tokenized_text'].apply(lambda x: [word for word in x if word not in stopwords])\n",
    "val_data['rem_stopwords_text'] = val_data['tokenized_text'].apply(lambda x: [word for word in x if word not in stopwords])\n",
    "\n",
    "# stemming\n",
    "factory = StemmerFactory()\n",
    "stemmer = factory.create_stemmer()\n",
    "train_data['stemmed_text'] = train_data['rem_stopwords_text'].apply(lambda x: [stemmer.stem(word) for word in x])\n",
    "test_data['stemmed_text'] = test_data['rem_stopwords_text'].apply(lambda x: [stemmer.stem(word) for word in x])\n",
    "val_data['stemmed_text'] = val_data['rem_stopwords_text'].apply(lambda x: [stemmer.stem(word) for word in x])\n",
    "\n",
    "# Merge tokenized text\n",
    "train_data['merged_text'] = train_data['stemmed_text'].apply(lambda x: ' '.join(x))\n",
    "test_data['merged_text'] = test_data['stemmed_text'].apply(lambda x: ' '.join(x))\n",
    "val_data['merged_text'] = val_data['stemmed_text'].apply(lambda x: ' '.join(x))\n"
   ]
  },
  {
   "cell_type": "code",
   "execution_count": 7,
   "metadata": {},
   "outputs": [],
   "source": [
    "## Feature Extraction\n",
    "\n",
    "# Bag of Words\n",
    "from sklearn.feature_extraction.text import CountVectorizer\n",
    "\n",
    "vectorizer = CountVectorizer()\n",
    "X_train = vectorizer.fit_transform(train_data['merged_text'])\n",
    "X_test = vectorizer.transform(test_data['merged_text'])\n",
    "X_val = vectorizer.transform(val_data['merged_text'])\n",
    "\n",
    "y_train = train_data['label']\n",
    "y_test = test_data['label']\n",
    "y_val = val_data['label']"
   ]
  },
  {
   "cell_type": "code",
   "execution_count": 8,
   "metadata": {},
   "outputs": [],
   "source": [
    "from sklearn.metrics import accuracy_score, precision_score, recall_score, f1_score, classification_report\n",
    "def check_result(y_test,y_pred):\n",
    "    print('Accuracy:', accuracy_score(y_test, y_pred))\n",
    "    print('Precision:', precision_score(y_test, y_pred, average='weighted'))\n",
    "    print('Recall:', recall_score(y_test, y_pred, average='weighted'))\n",
    "    print('F1 Score:', f1_score(y_test, y_pred, average='weighted'))\n",
    "\n",
    "    print(classification_report(y_test, y_pred))"
   ]
  },
  {
   "cell_type": "code",
   "execution_count": 11,
   "metadata": {},
   "outputs": [
    {
     "name": "stdout",
     "output_type": "stream",
     "text": [
      "Accuracy: 0.746\n",
      "Precision: 0.7440535663861176\n",
      "Recall: 0.746\n",
      "F1 Score: 0.7400771564958502\n",
      "              precision    recall  f1-score   support\n",
      "\n",
      "           0       0.73      0.85      0.78       204\n",
      "           1       0.79      0.76      0.77       208\n",
      "           2       0.68      0.48      0.56        88\n",
      "\n",
      "    accuracy                           0.75       500\n",
      "   macro avg       0.73      0.69      0.71       500\n",
      "weighted avg       0.74      0.75      0.74       500\n",
      "\n"
     ]
    }
   ],
   "source": [
    "## Model Training\n",
    "\n",
    "# Logistic Regression\n",
    "from sklearn.linear_model import LogisticRegression\n",
    "model_lr = LogisticRegression(max_iter=1000)\n",
    "model_lr.fit(X_train, y_train)\n",
    "\n",
    "y_pred = model_lr.predict(X_test)\n",
    "\n",
    "check_result(y_test, y_pred)"
   ]
  },
  {
   "cell_type": "code",
   "execution_count": 12,
   "metadata": {},
   "outputs": [
    {
     "name": "stdout",
     "output_type": "stream",
     "text": [
      "Accuracy: 0.686\n",
      "Precision: 0.7304178537511871\n",
      "Recall: 0.686\n",
      "F1 Score: 0.663958785713498\n",
      "              precision    recall  f1-score   support\n",
      "\n",
      "           0       0.60      0.91      0.72       204\n",
      "           1       0.85      0.66      0.74       208\n",
      "           2       0.77      0.23      0.35        88\n",
      "\n",
      "    accuracy                           0.69       500\n",
      "   macro avg       0.74      0.60      0.60       500\n",
      "weighted avg       0.73      0.69      0.66       500\n",
      "\n"
     ]
    }
   ],
   "source": [
    "# SVM\n",
    "from sklearn.svm import SVC\n",
    "\n",
    "model_svm = SVC()\n",
    "model_svm.fit(X_train, y_train)\n",
    "\n",
    "y_pred = model_svm.predict(X_test)\n",
    "\n",
    "check_result(y_test, y_pred)"
   ]
  },
  {
   "cell_type": "code",
   "execution_count": 13,
   "metadata": {},
   "outputs": [
    {
     "data": {
      "image/png": "[encoded data removed]",
      "text/plain": [
       "<Figure size 640x480 with 1 Axes>"
      ]
     },
     "metadata": {},
     "output_type": "display_data"
    }
   ],
   "source": [
    "from sklearn.metrics import precision_recall_curve\n",
    "import matplotlib.pyplot as plt\n",
    "from sklearn.svm import SVC\n",
    "\n",
    "model_svm = SVC(probability=True)\n",
    "\n",
    "model_svm.fit(X_train, y_train)\n",
    "\n",
    "y_prob = model_svm.predict_proba(X_test)\n",
    "\n",
    "# Binarize labels (One-vs-Rest) untuk setiap kelas\n",
    "y_test_bin = pd.get_dummies(y_test).values\n",
    "\n",
    "# Menghitung Precision-Recall curve untuk setiap kelas\n",
    "precision = dict()\n",
    "recall = dict()\n",
    "thresholds = dict()\n",
    "for i in range(3):  \n",
    "    precision[i], recall[i], thresholds[i] = precision_recall_curve(y_test_bin[:, i], y_prob[:, i])\n",
    "\n",
    "    plt.plot(recall[i], precision[i], lw=2, label=f'Class {i}')\n",
    "    \n",
    "plt.xlabel('Recall')\n",
    "plt.ylabel('Precision')\n",
    "plt.title('Precision-Recall Curve')\n",
    "plt.legend(loc='best')\n",
    "plt.show()\n"
   ]
  },
  {
   "cell_type": "code",
   "execution_count": 66,
   "metadata": {},
   "outputs": [
    {
     "name": "stdout",
     "output_type": "stream",
     "text": [
      "Threshold terbaik untuk class 0: 0.6543017347501383\n",
      "Threshold terbaik untuk class 1: 0.33433946336410203\n",
      "Threshold terbaik untuk class 2: 0.22608909658196708\n"
     ]
    }
   ],
   "source": [
    "f1_scores = dict()\n",
    "best_thresholds = dict()\n",
    "\n",
    "for i in range(3):\n",
    "    f1_scores[i] = 2 * (precision[i] * recall[i]) / (precision[i] + recall[i])\n",
    "    best_index = np.argmax(f1_scores[i])\n",
    "    best_thresholds[i] = thresholds[i][best_index]  # Threshold terbaik untuk kelas i\n",
    "    print(f'Threshold terbaik untuk class {i}: {best_thresholds[i]}')\n"
   ]
  },
  {
   "cell_type": "code",
   "execution_count": 67,
   "metadata": {},
   "outputs": [
    {
     "name": "stdout",
     "output_type": "stream",
     "text": [
      "Accuracy: 0.73\n",
      "Precision: 0.7283952499492699\n",
      "Recall: 0.73\n",
      "F1 Score: 0.7286723548510188\n",
      "              precision    recall  f1-score   support\n",
      "\n",
      "           0       0.73      0.77      0.75       204\n",
      "           1       0.77      0.76      0.76       208\n",
      "           2       0.63      0.57      0.60        88\n",
      "\n",
      "    accuracy                           0.73       500\n",
      "   macro avg       0.71      0.70      0.70       500\n",
      "weighted avg       0.73      0.73      0.73       500\n",
      "\n"
     ]
    }
   ],
   "source": [
    "y_pred_custom_threshold = []\n",
    "\n",
    "for prob in y_prob:\n",
    "    if prob[2] >= best_thresholds[2]:  \n",
    "        y_pred_custom_threshold.append(2)\n",
    "    elif prob[1] >= best_thresholds[1]:  \n",
    "        y_pred_custom_threshold.append(1)\n",
    "    elif prob[0] >= best_thresholds[0]:  \n",
    "        y_pred_custom_threshold.append(0)\n",
    "    else:\n",
    "        # Jika tidak ada yang memenuhi threshold, pilih probabilitas tertinggi\n",
    "        y_pred_custom_threshold.append(np.argmax(prob))\n",
    "\n",
    "check_result(y_test, y_pred_custom_threshold)"
   ]
  },
  {
   "cell_type": "code",
   "execution_count": 58,
   "metadata": {},
   "outputs": [
    {
     "name": "stdout",
     "output_type": "stream",
     "text": [
      "Accuracy: 0.68\n",
      "Precision: 0.6758706137735264\n",
      "Recall: 0.68\n",
      "F1 Score: 0.6768789232218272\n",
      "              precision    recall  f1-score   support\n",
      "\n",
      "           0       0.68      0.74      0.71       204\n",
      "           1       0.73      0.73      0.73       208\n",
      "           2       0.53      0.44      0.48        88\n",
      "\n",
      "    accuracy                           0.68       500\n",
      "   macro avg       0.65      0.63      0.64       500\n",
      "weighted avg       0.68      0.68      0.68       500\n",
      "\n"
     ]
    }
   ],
   "source": [
    "# # MLP Classifier\n",
    "# from sklearn.neural_network import MLPClassifier\n",
    "\n",
    "# model_mlp = MLPClassifier()\n",
    "# model_mlp.fit(X_train, y_train)\n",
    "\n",
    "# y_pred = model_mlp.predict(X_test)\n",
    "\n",
    "# check_result(y_test, y_pred)"
   ]
  },
  {
   "cell_type": "code",
   "execution_count": 59,
   "metadata": {},
   "outputs": [
    {
     "name": "stdout",
     "output_type": "stream",
     "text": [
      "Accuracy: 0.584\n",
      "Precision: 0.6590957628833735\n",
      "Recall: 0.584\n",
      "F1 Score: 0.5498847123771289\n",
      "              precision    recall  f1-score   support\n",
      "\n",
      "           0       0.51      0.85      0.64       204\n",
      "           1       0.72      0.51      0.60       208\n",
      "           2       0.85      0.12      0.22        88\n",
      "\n",
      "    accuracy                           0.58       500\n",
      "   macro avg       0.69      0.50      0.49       500\n",
      "weighted avg       0.66      0.58      0.55       500\n",
      "\n"
     ]
    }
   ],
   "source": [
    "# AdaBoost\n",
    "from sklearn.ensemble import AdaBoostClassifier\n",
    "\n",
    "model_ada = AdaBoostClassifier()\n",
    "model_ada.fit(X_train, y_train)\n",
    "\n",
    "y_pred = model_ada.predict(X_test)\n",
    "\n",
    "check_result(y_test, y_pred)"
   ]
  },
  {
   "cell_type": "code",
   "execution_count": 60,
   "metadata": {},
   "outputs": [
    {
     "name": "stdout",
     "output_type": "stream",
     "text": [
      "Accuracy: 0.572\n",
      "Precision: 0.5718916526721327\n",
      "Recall: 0.572\n",
      "F1 Score: 0.5606882878838888\n",
      "              precision    recall  f1-score   support\n",
      "\n",
      "           0       0.52      0.67      0.58       204\n",
      "           1       0.68      0.62      0.65       208\n",
      "           2       0.45      0.23      0.30        88\n",
      "\n",
      "    accuracy                           0.57       500\n",
      "   macro avg       0.55      0.51      0.51       500\n",
      "weighted avg       0.57      0.57      0.56       500\n",
      "\n"
     ]
    }
   ],
   "source": [
    "# Bagging\n",
    "from sklearn.ensemble import BaggingClassifier\n",
    "\n",
    "model_bag = BaggingClassifier()\n",
    "model_bag.fit(X_train, y_train)\n",
    "\n",
    "y_pred = model_bag.predict(X_test)\n",
    "\n",
    "check_result(y_test, y_pred)"
   ]
  },
  {
   "cell_type": "code",
   "execution_count": 61,
   "metadata": {},
   "outputs": [
    {
     "name": "stdout",
     "output_type": "stream",
     "text": [
      "Accuracy: 0.638\n",
      "Precision: 0.6300877312560856\n",
      "Recall: 0.638\n",
      "F1 Score: 0.6287828481761502\n",
      "              precision    recall  f1-score   support\n",
      "\n",
      "           0       0.66      0.67      0.67       204\n",
      "           1       0.65      0.74      0.69       208\n",
      "           2       0.53      0.33      0.41        88\n",
      "\n",
      "    accuracy                           0.64       500\n",
      "   macro avg       0.61      0.58      0.59       500\n",
      "weighted avg       0.63      0.64      0.63       500\n",
      "\n"
     ]
    }
   ],
   "source": [
    "# Perceptron\n",
    "from sklearn.linear_model import Perceptron\n",
    "\n",
    "model_perceptron = Perceptron()\n",
    "model_perceptron.fit(X_train, y_train)\n",
    "\n",
    "y_pred = model_perceptron.predict(X_test)\n",
    "\n",
    "check_result(y_test, y_pred)"
   ]
  },
  {
   "cell_type": "code",
   "execution_count": 70,
   "metadata": {},
   "outputs": [
    {
     "name": "stdout",
     "output_type": "stream",
     "text": [
      "Accuracy: 0.686\n",
      "Precision: 0.7233357141240636\n",
      "Recall: 0.686\n",
      "F1 Score: 0.6629839298872741\n",
      "              precision    recall  f1-score   support\n",
      "\n",
      "           0       0.60      0.91      0.72       204\n",
      "           1       0.84      0.67      0.75       208\n",
      "           2       0.73      0.22      0.33        88\n",
      "\n",
      "    accuracy                           0.69       500\n",
      "   macro avg       0.72      0.60      0.60       500\n",
      "weighted avg       0.72      0.69      0.66       500\n",
      "\n"
     ]
    }
   ],
   "source": [
    "# XGBoost\n",
    "from xgboost import XGBClassifier\n",
    "\n",
    "model_xgb = XGBClassifier()\n",
    "model_xgb.fit(X_train, y_train)\n",
    "\n",
    "y_pred = model_xgb.predict(X_test)\n",
    "\n",
    "check_result(y_test, y_pred)"
   ]
  }
 ],
 "metadata": {
  "kernelspec": {
   "display_name": "Python 3",
   "language": "python",
   "name": "python3"
  },
  "language_info": {
   "codemirror_mode": {
    "name": "ipython",
    "version": 3
   },
   "file_extension": ".py",
   "mimetype": "text/x-python",
   "name": "python",
   "nbconvert_exporter": "python",
   "pygments_lexer": "ipython3",
   "version": "3.7.0"
  }
 },
 "nbformat": 4,
 "nbformat_minor": 2
}
